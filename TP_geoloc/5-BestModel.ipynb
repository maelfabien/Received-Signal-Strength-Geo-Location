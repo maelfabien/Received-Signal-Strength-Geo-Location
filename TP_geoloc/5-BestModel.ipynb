{
 "cells": [
  {
   "cell_type": "markdown",
   "metadata": {},
   "source": [
    "# Best Model"
   ]
  },
  {
   "cell_type": "markdown",
   "metadata": {},
   "source": [
    "## Imports"
   ]
  },
  {
   "cell_type": "code",
   "execution_count": 6,
   "metadata": {
    "ExecuteTime": {
     "end_time": "2019-01-12T17:06:22.140524Z",
     "start_time": "2019-01-12T17:06:20.158706Z"
    }
   },
   "outputs": [
    {
     "name": "stderr",
     "output_type": "stream",
     "text": [
      "/anaconda3/lib/python3.6/site-packages/sklearn/ensemble/weight_boosting.py:29: DeprecationWarning: numpy.core.umath_tests is an internal NumPy module and should not be imported. It will be removed in a future NumPy release.\n",
      "  from numpy.core.umath_tests import inner1d\n"
     ]
    }
   ],
   "source": [
    "import pandas as pd\n",
    "import numpy as np\n",
    "import seaborn as sns\n",
    "import matplotlib.pyplot as plt\n",
    "from geopy.distance import vincenty\n",
    "from sklearn.ensemble import ExtraTreesRegressor\n",
    "from sklearn.model_selection import cross_val_predict\n",
    "from sklearn.model_selection import train_test_split"
   ]
  },
  {
   "cell_type": "code",
   "execution_count": 7,
   "metadata": {
    "ExecuteTime": {
     "end_time": "2019-01-12T17:06:45.871568Z",
     "start_time": "2019-01-12T17:06:40.064535Z"
    }
   },
   "outputs": [
    {
     "data": {
      "text/html": [
       "<div>\n",
       "<style scoped>\n",
       "    .dataframe tbody tr th:only-of-type {\n",
       "        vertical-align: middle;\n",
       "    }\n",
       "\n",
       "    .dataframe tbody tr th {\n",
       "        vertical-align: top;\n",
       "    }\n",
       "\n",
       "    .dataframe thead th {\n",
       "        text-align: right;\n",
       "    }\n",
       "</style>\n",
       "<table border=\"1\" class=\"dataframe\">\n",
       "  <thead>\n",
       "    <tr style=\"text-align: right;\">\n",
       "      <th></th>\n",
       "      <th>messid</th>\n",
       "      <th>did</th>\n",
       "      <th>NBAntennes</th>\n",
       "      <th>rssi1</th>\n",
       "      <th>rssi2</th>\n",
       "      <th>rssi3</th>\n",
       "      <th>rssi4</th>\n",
       "      <th>rssi5</th>\n",
       "      <th>rssi6</th>\n",
       "      <th>rssi7</th>\n",
       "      <th>...</th>\n",
       "      <th>sum_dist</th>\n",
       "      <th>avg_dist</th>\n",
       "      <th>sum_rssi</th>\n",
       "      <th>avg_rssi</th>\n",
       "      <th>avg_lat</th>\n",
       "      <th>avg_lng</th>\n",
       "      <th>sum_lat</th>\n",
       "      <th>sum_lng</th>\n",
       "      <th>lat</th>\n",
       "      <th>lng</th>\n",
       "    </tr>\n",
       "  </thead>\n",
       "  <tbody>\n",
       "    <tr>\n",
       "      <th>0</th>\n",
       "      <td>573bf1d9864fce1a9af8c5c9</td>\n",
       "      <td>473335.0</td>\n",
       "      <td>2</td>\n",
       "      <td>0.007640</td>\n",
       "      <td>0.007640</td>\n",
       "      <td>0.007640</td>\n",
       "      <td>0.013217</td>\n",
       "      <td>0.021591</td>\n",
       "      <td>0.097936</td>\n",
       "      <td>0.078317</td>\n",
       "      <td>...</td>\n",
       "      <td>-1.151346</td>\n",
       "      <td>-1.151346</td>\n",
       "      <td>0.335108</td>\n",
       "      <td>0.335108</td>\n",
       "      <td>-0.571009</td>\n",
       "      <td>-0.499647</td>\n",
       "      <td>-0.571009</td>\n",
       "      <td>-0.499647</td>\n",
       "      <td>39.606690</td>\n",
       "      <td>-104.958490</td>\n",
       "    </tr>\n",
       "    <tr>\n",
       "      <th>1</th>\n",
       "      <td>573bf3533e952e19126b256a</td>\n",
       "      <td>473335.0</td>\n",
       "      <td>1</td>\n",
       "      <td>0.003820</td>\n",
       "      <td>0.003820</td>\n",
       "      <td>0.003820</td>\n",
       "      <td>0.006608</td>\n",
       "      <td>0.010796</td>\n",
       "      <td>0.048968</td>\n",
       "      <td>0.039159</td>\n",
       "      <td>...</td>\n",
       "      <td>0.857564</td>\n",
       "      <td>0.857564</td>\n",
       "      <td>0.167472</td>\n",
       "      <td>0.167472</td>\n",
       "      <td>-0.291295</td>\n",
       "      <td>-0.255968</td>\n",
       "      <td>-0.291295</td>\n",
       "      <td>-0.255968</td>\n",
       "      <td>39.637741</td>\n",
       "      <td>-104.958554</td>\n",
       "    </tr>\n",
       "    <tr>\n",
       "      <th>2</th>\n",
       "      <td>573c0cd0f0fe6e735a699b93</td>\n",
       "      <td>473953.0</td>\n",
       "      <td>3</td>\n",
       "      <td>0.011459</td>\n",
       "      <td>0.011459</td>\n",
       "      <td>0.011459</td>\n",
       "      <td>0.019825</td>\n",
       "      <td>0.032387</td>\n",
       "      <td>0.146905</td>\n",
       "      <td>0.117476</td>\n",
       "      <td>...</td>\n",
       "      <td>-2.184846</td>\n",
       "      <td>-2.184846</td>\n",
       "      <td>0.502798</td>\n",
       "      <td>0.502798</td>\n",
       "      <td>-0.804799</td>\n",
       "      <td>-0.765319</td>\n",
       "      <td>-0.804799</td>\n",
       "      <td>-0.765319</td>\n",
       "      <td>39.730417</td>\n",
       "      <td>-104.968940</td>\n",
       "    </tr>\n",
       "    <tr>\n",
       "      <th>3</th>\n",
       "      <td>573c1272f0fe6e735a6cb8bd</td>\n",
       "      <td>476512.0</td>\n",
       "      <td>4</td>\n",
       "      <td>0.015279</td>\n",
       "      <td>0.015279</td>\n",
       "      <td>0.015279</td>\n",
       "      <td>0.026434</td>\n",
       "      <td>0.043183</td>\n",
       "      <td>0.195873</td>\n",
       "      <td>0.156635</td>\n",
       "      <td>...</td>\n",
       "      <td>-0.261038</td>\n",
       "      <td>-0.261038</td>\n",
       "      <td>0.670089</td>\n",
       "      <td>0.670089</td>\n",
       "      <td>-1.162423</td>\n",
       "      <td>-1.033559</td>\n",
       "      <td>-1.162423</td>\n",
       "      <td>-1.033559</td>\n",
       "      <td>39.693102</td>\n",
       "      <td>-105.006995</td>\n",
       "    </tr>\n",
       "    <tr>\n",
       "      <th>4</th>\n",
       "      <td>573c8ea8864fce1a9a5fbf7a</td>\n",
       "      <td>476286.0</td>\n",
       "      <td>42</td>\n",
       "      <td>0.160432</td>\n",
       "      <td>0.160432</td>\n",
       "      <td>0.160432</td>\n",
       "      <td>0.277553</td>\n",
       "      <td>0.453421</td>\n",
       "      <td>2.056664</td>\n",
       "      <td>-24.637701</td>\n",
       "      <td>...</td>\n",
       "      <td>0.768993</td>\n",
       "      <td>0.768993</td>\n",
       "      <td>7.036390</td>\n",
       "      <td>7.036390</td>\n",
       "      <td>-11.072712</td>\n",
       "      <td>-10.864657</td>\n",
       "      <td>-11.072712</td>\n",
       "      <td>-10.864657</td>\n",
       "      <td>39.758167</td>\n",
       "      <td>-105.051016</td>\n",
       "    </tr>\n",
       "  </tbody>\n",
       "</table>\n",
       "<p>5 rows × 1572 columns</p>\n",
       "</div>"
      ],
      "text/plain": [
       "                     messid       did  NBAntennes     rssi1     rssi2  \\\n",
       "0  573bf1d9864fce1a9af8c5c9  473335.0           2  0.007640  0.007640   \n",
       "1  573bf3533e952e19126b256a  473335.0           1  0.003820  0.003820   \n",
       "2  573c0cd0f0fe6e735a699b93  473953.0           3  0.011459  0.011459   \n",
       "3  573c1272f0fe6e735a6cb8bd  476512.0           4  0.015279  0.015279   \n",
       "4  573c8ea8864fce1a9a5fbf7a  476286.0          42  0.160432  0.160432   \n",
       "\n",
       "      rssi3     rssi4     rssi5     rssi6      rssi7     ...      sum_dist  \\\n",
       "0  0.007640  0.013217  0.021591  0.097936   0.078317     ...     -1.151346   \n",
       "1  0.003820  0.006608  0.010796  0.048968   0.039159     ...      0.857564   \n",
       "2  0.011459  0.019825  0.032387  0.146905   0.117476     ...     -2.184846   \n",
       "3  0.015279  0.026434  0.043183  0.195873   0.156635     ...     -0.261038   \n",
       "4  0.160432  0.277553  0.453421  2.056664 -24.637701     ...      0.768993   \n",
       "\n",
       "   avg_dist  sum_rssi  avg_rssi    avg_lat    avg_lng    sum_lat    sum_lng  \\\n",
       "0 -1.151346  0.335108  0.335108  -0.571009  -0.499647  -0.571009  -0.499647   \n",
       "1  0.857564  0.167472  0.167472  -0.291295  -0.255968  -0.291295  -0.255968   \n",
       "2 -2.184846  0.502798  0.502798  -0.804799  -0.765319  -0.804799  -0.765319   \n",
       "3 -0.261038  0.670089  0.670089  -1.162423  -1.033559  -1.162423  -1.033559   \n",
       "4  0.768993  7.036390  7.036390 -11.072712 -10.864657 -11.072712 -10.864657   \n",
       "\n",
       "         lat         lng  \n",
       "0  39.606690 -104.958490  \n",
       "1  39.637741 -104.958554  \n",
       "2  39.730417 -104.968940  \n",
       "3  39.693102 -105.006995  \n",
       "4  39.758167 -105.051016  \n",
       "\n",
       "[5 rows x 1572 columns]"
      ]
     },
     "execution_count": 7,
     "metadata": {},
     "output_type": "execute_result"
    }
   ],
   "source": [
    "df_train = pd.read_csv('/Users/maelfabien/Desktop/LocalDB/RSSI/df_mess_train_3.csv')\n",
    "df_test = pd.read_csv('/Users/maelfabien/Desktop/LocalDB/RSSI/df_mess_test_3.csv')\n",
    "df_train = df_train.drop(['Unnamed: 0'], axis=1)\n",
    "df_test = df_test.drop(['Unnamed: 0'], axis=1)\n",
    "df_train.head()"
   ]
  },
  {
   "cell_type": "code",
   "execution_count": 8,
   "metadata": {
    "ExecuteTime": {
     "end_time": "2019-01-12T17:06:45.880902Z",
     "start_time": "2019-01-12T17:06:45.874744Z"
    }
   },
   "outputs": [],
   "source": [
    "def ground_truth_const(df):\n",
    "    \n",
    "    X = df.drop(['messid', 'lat', 'lng', 'did'], axis=1)\n",
    "    y_lat = df['lat']\n",
    "    y_lng = df['lng']\n",
    "    \n",
    "    return X, y_lat, y_lng"
   ]
  },
  {
   "cell_type": "code",
   "execution_count": 9,
   "metadata": {
    "ExecuteTime": {
     "end_time": "2019-01-12T17:06:53.302802Z",
     "start_time": "2019-01-12T17:06:53.196257Z"
    }
   },
   "outputs": [
    {
     "data": {
      "text/html": [
       "<div>\n",
       "<style scoped>\n",
       "    .dataframe tbody tr th:only-of-type {\n",
       "        vertical-align: middle;\n",
       "    }\n",
       "\n",
       "    .dataframe tbody tr th {\n",
       "        vertical-align: top;\n",
       "    }\n",
       "\n",
       "    .dataframe thead th {\n",
       "        text-align: right;\n",
       "    }\n",
       "</style>\n",
       "<table border=\"1\" class=\"dataframe\">\n",
       "  <thead>\n",
       "    <tr style=\"text-align: right;\">\n",
       "      <th></th>\n",
       "      <th>NBAntennes</th>\n",
       "      <th>rssi1</th>\n",
       "      <th>rssi2</th>\n",
       "      <th>rssi3</th>\n",
       "      <th>rssi4</th>\n",
       "      <th>rssi5</th>\n",
       "      <th>rssi6</th>\n",
       "      <th>rssi7</th>\n",
       "      <th>rssi8</th>\n",
       "      <th>rssi9</th>\n",
       "      <th>...</th>\n",
       "      <th>lngi258</th>\n",
       "      <th>lngi259</th>\n",
       "      <th>sum_dist</th>\n",
       "      <th>avg_dist</th>\n",
       "      <th>sum_rssi</th>\n",
       "      <th>avg_rssi</th>\n",
       "      <th>avg_lat</th>\n",
       "      <th>avg_lng</th>\n",
       "      <th>sum_lat</th>\n",
       "      <th>sum_lng</th>\n",
       "    </tr>\n",
       "  </thead>\n",
       "  <tbody>\n",
       "    <tr>\n",
       "      <th>0</th>\n",
       "      <td>2</td>\n",
       "      <td>0.007640</td>\n",
       "      <td>0.007640</td>\n",
       "      <td>0.007640</td>\n",
       "      <td>0.013217</td>\n",
       "      <td>0.021591</td>\n",
       "      <td>0.097936</td>\n",
       "      <td>0.078317</td>\n",
       "      <td>0.044555</td>\n",
       "      <td>0.007640</td>\n",
       "      <td>...</td>\n",
       "      <td>0.155708</td>\n",
       "      <td>0.007640</td>\n",
       "      <td>-1.151346</td>\n",
       "      <td>-1.151346</td>\n",
       "      <td>0.335108</td>\n",
       "      <td>0.335108</td>\n",
       "      <td>-0.571009</td>\n",
       "      <td>-0.499647</td>\n",
       "      <td>-0.571009</td>\n",
       "      <td>-0.499647</td>\n",
       "    </tr>\n",
       "    <tr>\n",
       "      <th>1</th>\n",
       "      <td>1</td>\n",
       "      <td>0.003820</td>\n",
       "      <td>0.003820</td>\n",
       "      <td>0.003820</td>\n",
       "      <td>0.006608</td>\n",
       "      <td>0.010796</td>\n",
       "      <td>0.048968</td>\n",
       "      <td>0.039159</td>\n",
       "      <td>0.022277</td>\n",
       "      <td>0.003820</td>\n",
       "      <td>...</td>\n",
       "      <td>0.077854</td>\n",
       "      <td>0.003820</td>\n",
       "      <td>0.857564</td>\n",
       "      <td>0.857564</td>\n",
       "      <td>0.167472</td>\n",
       "      <td>0.167472</td>\n",
       "      <td>-0.291295</td>\n",
       "      <td>-0.255968</td>\n",
       "      <td>-0.291295</td>\n",
       "      <td>-0.255968</td>\n",
       "    </tr>\n",
       "    <tr>\n",
       "      <th>2</th>\n",
       "      <td>3</td>\n",
       "      <td>0.011459</td>\n",
       "      <td>0.011459</td>\n",
       "      <td>0.011459</td>\n",
       "      <td>0.019825</td>\n",
       "      <td>0.032387</td>\n",
       "      <td>0.146905</td>\n",
       "      <td>0.117476</td>\n",
       "      <td>0.066832</td>\n",
       "      <td>0.011459</td>\n",
       "      <td>...</td>\n",
       "      <td>0.233561</td>\n",
       "      <td>0.011459</td>\n",
       "      <td>-2.184846</td>\n",
       "      <td>-2.184846</td>\n",
       "      <td>0.502798</td>\n",
       "      <td>0.502798</td>\n",
       "      <td>-0.804799</td>\n",
       "      <td>-0.765319</td>\n",
       "      <td>-0.804799</td>\n",
       "      <td>-0.765319</td>\n",
       "    </tr>\n",
       "    <tr>\n",
       "      <th>3</th>\n",
       "      <td>4</td>\n",
       "      <td>0.015279</td>\n",
       "      <td>0.015279</td>\n",
       "      <td>0.015279</td>\n",
       "      <td>0.026434</td>\n",
       "      <td>0.043183</td>\n",
       "      <td>0.195873</td>\n",
       "      <td>0.156635</td>\n",
       "      <td>0.089110</td>\n",
       "      <td>0.015279</td>\n",
       "      <td>...</td>\n",
       "      <td>0.311415</td>\n",
       "      <td>0.015279</td>\n",
       "      <td>-0.261038</td>\n",
       "      <td>-0.261038</td>\n",
       "      <td>0.670089</td>\n",
       "      <td>0.670089</td>\n",
       "      <td>-1.162423</td>\n",
       "      <td>-1.033559</td>\n",
       "      <td>-1.162423</td>\n",
       "      <td>-1.033559</td>\n",
       "    </tr>\n",
       "    <tr>\n",
       "      <th>4</th>\n",
       "      <td>42</td>\n",
       "      <td>0.160432</td>\n",
       "      <td>0.160432</td>\n",
       "      <td>0.160432</td>\n",
       "      <td>0.277553</td>\n",
       "      <td>0.453421</td>\n",
       "      <td>2.056664</td>\n",
       "      <td>-24.637701</td>\n",
       "      <td>0.935653</td>\n",
       "      <td>0.160432</td>\n",
       "      <td>...</td>\n",
       "      <td>3.269860</td>\n",
       "      <td>0.160432</td>\n",
       "      <td>0.768993</td>\n",
       "      <td>0.768993</td>\n",
       "      <td>7.036390</td>\n",
       "      <td>7.036390</td>\n",
       "      <td>-11.072712</td>\n",
       "      <td>-10.864657</td>\n",
       "      <td>-11.072712</td>\n",
       "      <td>-10.864657</td>\n",
       "    </tr>\n",
       "  </tbody>\n",
       "</table>\n",
       "<p>5 rows × 1568 columns</p>\n",
       "</div>"
      ],
      "text/plain": [
       "   NBAntennes     rssi1     rssi2     rssi3     rssi4     rssi5     rssi6  \\\n",
       "0           2  0.007640  0.007640  0.007640  0.013217  0.021591  0.097936   \n",
       "1           1  0.003820  0.003820  0.003820  0.006608  0.010796  0.048968   \n",
       "2           3  0.011459  0.011459  0.011459  0.019825  0.032387  0.146905   \n",
       "3           4  0.015279  0.015279  0.015279  0.026434  0.043183  0.195873   \n",
       "4          42  0.160432  0.160432  0.160432  0.277553  0.453421  2.056664   \n",
       "\n",
       "       rssi7     rssi8     rssi9    ...       lngi258   lngi259  sum_dist  \\\n",
       "0   0.078317  0.044555  0.007640    ...      0.155708  0.007640 -1.151346   \n",
       "1   0.039159  0.022277  0.003820    ...      0.077854  0.003820  0.857564   \n",
       "2   0.117476  0.066832  0.011459    ...      0.233561  0.011459 -2.184846   \n",
       "3   0.156635  0.089110  0.015279    ...      0.311415  0.015279 -0.261038   \n",
       "4 -24.637701  0.935653  0.160432    ...      3.269860  0.160432  0.768993   \n",
       "\n",
       "   avg_dist  sum_rssi  avg_rssi    avg_lat    avg_lng    sum_lat    sum_lng  \n",
       "0 -1.151346  0.335108  0.335108  -0.571009  -0.499647  -0.571009  -0.499647  \n",
       "1  0.857564  0.167472  0.167472  -0.291295  -0.255968  -0.291295  -0.255968  \n",
       "2 -2.184846  0.502798  0.502798  -0.804799  -0.765319  -0.804799  -0.765319  \n",
       "3 -0.261038  0.670089  0.670089  -1.162423  -1.033559  -1.162423  -1.033559  \n",
       "4  0.768993  7.036390  7.036390 -11.072712 -10.864657 -11.072712 -10.864657  \n",
       "\n",
       "[5 rows x 1568 columns]"
      ]
     },
     "execution_count": 9,
     "metadata": {},
     "output_type": "execute_result"
    }
   ],
   "source": [
    "X_train, y_lat_train, y_lng_train = ground_truth_const(df_train)\n",
    "X_train.head()"
   ]
  },
  {
   "cell_type": "markdown",
   "metadata": {},
   "source": [
    "## Define Accuracy Measure"
   ]
  },
  {
   "cell_type": "code",
   "execution_count": 10,
   "metadata": {
    "ExecuteTime": {
     "end_time": "2019-01-12T17:07:01.028915Z",
     "start_time": "2019-01-12T17:07:01.021755Z"
    }
   },
   "outputs": [],
   "source": [
    "def vincenty_vec(vec_coord):\n",
    "    vin_vec_dist = np.zeros(vec_coord.shape[0])\n",
    "    if vec_coord.shape[1] !=  4:\n",
    "        print('ERROR: Bad number of columns (shall be = 4)')\n",
    "    else:\n",
    "        vin_vec_dist = [vincenty(vec_coord[m,0:2],vec_coord[m,2:]).meters for m in range(vec_coord.shape[0])]\n",
    "    return vin_vec_dist"
   ]
  },
  {
   "cell_type": "code",
   "execution_count": 11,
   "metadata": {
    "ExecuteTime": {
     "end_time": "2019-01-12T17:07:01.470407Z",
     "start_time": "2019-01-12T17:07:01.465077Z"
    }
   },
   "outputs": [],
   "source": [
    "# evaluate distance error for each predicted point\n",
    "def Eval_geoloc(y_train_lat , y_train_lng, y_pred_lat, y_pred_lng):\n",
    "    #y_pred_lat[np.where(y_pred_lat>90)[0]]=90\n",
    "    #y_pred_lat[np.where(y_pred_lat<-90)[0]]=-90\n",
    "    vec_coord = np.array([y_train_lat , y_train_lng, y_pred_lat, y_pred_lng])\n",
    "    err_vec = vincenty_vec(np.transpose(vec_coord))\n",
    "    \n",
    "    return err_vec"
   ]
  },
  {
   "cell_type": "markdown",
   "metadata": {},
   "source": [
    "## Train the model"
   ]
  },
  {
   "cell_type": "code",
   "execution_count": 13,
   "metadata": {
    "ExecuteTime": {
     "end_time": "2019-01-12T17:35:31.931379Z",
     "start_time": "2019-01-12T17:09:14.551007Z"
    }
   },
   "outputs": [
    {
     "data": {
      "text/plain": [
       "ExtraTreesRegressor(bootstrap=False, criterion='mse', max_depth=None,\n",
       "          max_features='auto', max_leaf_nodes=None,\n",
       "          min_impurity_decrease=0.0, min_impurity_split=None,\n",
       "          min_samples_leaf=1, min_samples_split=2,\n",
       "          min_weight_fraction_leaf=0.0, n_estimators=1000, n_jobs=-1,\n",
       "          oob_score=False, random_state=None, verbose=0, warm_start=False)"
      ]
     },
     "execution_count": 13,
     "metadata": {},
     "output_type": "execute_result"
    }
   ],
   "source": [
    "ext_lng = ExtraTreesRegressor(n_estimators=1000, n_jobs=-1)\n",
    "ext_lng.fit(X_train, y_lng_train)"
   ]
  },
  {
   "cell_type": "code",
   "execution_count": 16,
   "metadata": {
    "ExecuteTime": {
     "end_time": "2019-01-12T17:56:23.413028Z",
     "start_time": "2019-01-12T17:37:51.995282Z"
    }
   },
   "outputs": [
    {
     "data": {
      "text/plain": [
       "ExtraTreesRegressor(bootstrap=False, criterion='mse', max_depth=None,\n",
       "          max_features='auto', max_leaf_nodes=None,\n",
       "          min_impurity_decrease=0.0, min_impurity_split=None,\n",
       "          min_samples_leaf=1, min_samples_split=2,\n",
       "          min_weight_fraction_leaf=0.0, n_estimators=1000, n_jobs=-1,\n",
       "          oob_score=False, random_state=None, verbose=0, warm_start=False)"
      ]
     },
     "execution_count": 16,
     "metadata": {},
     "output_type": "execute_result"
    }
   ],
   "source": [
    "ext_lat = ExtraTreesRegressor(n_estimators=1000, n_jobs=-1)\n",
    "X_train_new = pd.concat([X_train, y_lng_train], axis=1)\n",
    "ext_lat.fit(X_train_new, y_lat_train)"
   ]
  },
  {
   "cell_type": "markdown",
   "metadata": {},
   "source": [
    "## Cross Val predict Score Assessment"
   ]
  },
  {
   "cell_type": "markdown",
   "metadata": {},
   "source": [
    "The purpose of this section is to validate the hypothesis we have used so far and have a more robust idea of the accuracy we can expect when predicting on the test set."
   ]
  },
  {
   "cell_type": "code",
   "execution_count": 20,
   "metadata": {
    "ExecuteTime": {
     "end_time": "2019-01-12T23:21:31.359225Z",
     "start_time": "2019-01-12T18:39:25.588356Z"
    }
   },
   "outputs": [],
   "source": [
    "ext_lng_cv = ExtraTreesRegressor(n_estimators=1000, n_jobs = -1)\n",
    "pred_lng = cross_val_predict(ext_lng_cv, X_train, y_lng_train, cv=5)"
   ]
  },
  {
   "cell_type": "code",
   "execution_count": 21,
   "metadata": {
    "ExecuteTime": {
     "end_time": "2019-01-13T00:41:07.932875Z",
     "start_time": "2019-01-12T23:21:31.410539Z"
    }
   },
   "outputs": [],
   "source": [
    "ext_lat_cv = ExtraTreesRegressor(n_estimators=1000, n_jobs = -1)\n",
    "X_train_new = pd.concat([X_train, y_lng_train], axis=1)\n",
    "pred_lat = cross_val_predict(ext_lat_cv, X_train_new, y_lat_train, cv=5)"
   ]
  },
  {
   "cell_type": "code",
   "execution_count": 22,
   "metadata": {
    "ExecuteTime": {
     "end_time": "2019-01-13T00:41:08.996660Z",
     "start_time": "2019-01-13T00:41:07.937622Z"
    }
   },
   "outputs": [
    {
     "name": "stderr",
     "output_type": "stream",
     "text": [
      "/anaconda3/lib/python3.6/site-packages/ipykernel_launcher.py:6: DeprecationWarning: Vincenty is deprecated and is going to be removed in geopy 2.0. Use `geopy.distance.geodesic` (or the default `geopy.distance.distance`) instead, which is more accurate and always converges.\n",
      "  \n"
     ]
    },
    {
     "data": {
      "image/png": "[encoded data removed]",
      "text/plain": [
       "<Figure size 432x288 with 1 Axes>"
      ]
     },
     "metadata": {},
     "output_type": "display_data"
    },
    {
     "name": "stdout",
     "output_type": "stream",
     "text": [
      "3209.6056741746634\n"
     ]
    }
   ],
   "source": [
    "err_vec = Eval_geoloc(y_lat_train , y_lng_train, pred_lat, pred_lng)\n",
    "\n",
    "#err_vec = Eval_geoloc(y_test['lat'] , y_test['lng'], pred['lat_test'], pred['lng_test'])\n",
    "values, base = np.histogram(err_vec, bins=50000)\n",
    "cumulative = np.cumsum(values) \n",
    "\n",
    "plt.figure()\n",
    "plt.plot(base[:-1]/1000, cumulative / np.float(np.sum(values))  * 100.0, c='blue')\n",
    "plt.grid(); plt.xlabel('Distance Error (km)'); plt.ylabel('Cum proba (%)'); plt.axis([0, 30, 0, 100]); \n",
    "plt.title('Error Cumulative Probability'); plt.legend( [\"Opt LLR\", \"LLR 95\", \"LLR 99\"])\n",
    "plt.show()\n",
    "\n",
    "print(np.percentile(err_vec, 80))"
   ]
  },
  {
   "cell_type": "markdown",
   "metadata": {},
   "source": [
    "## Prediction for the test set"
   ]
  },
  {
   "cell_type": "code",
   "execution_count": 17,
   "metadata": {
    "ExecuteTime": {
     "end_time": "2019-01-12T17:56:27.172420Z",
     "start_time": "2019-01-12T17:56:23.417715Z"
    }
   },
   "outputs": [
    {
     "data": {
      "text/html": [
       "<div>\n",
       "<style scoped>\n",
       "    .dataframe tbody tr th:only-of-type {\n",
       "        vertical-align: middle;\n",
       "    }\n",
       "\n",
       "    .dataframe tbody tr th {\n",
       "        vertical-align: top;\n",
       "    }\n",
       "\n",
       "    .dataframe thead th {\n",
       "        text-align: right;\n",
       "    }\n",
       "</style>\n",
       "<table border=\"1\" class=\"dataframe\">\n",
       "  <thead>\n",
       "    <tr style=\"text-align: right;\">\n",
       "      <th></th>\n",
       "      <th>lat</th>\n",
       "      <th>lng</th>\n",
       "      <th>messid</th>\n",
       "    </tr>\n",
       "  </thead>\n",
       "  <tbody>\n",
       "    <tr>\n",
       "      <th>0</th>\n",
       "      <td>39.707541</td>\n",
       "      <td>-105.037183</td>\n",
       "      <td>573be2503e952e191262c351</td>\n",
       "    </tr>\n",
       "    <tr>\n",
       "      <th>1</th>\n",
       "      <td>39.783737</td>\n",
       "      <td>-105.072701</td>\n",
       "      <td>573c05f83e952e1912758013</td>\n",
       "    </tr>\n",
       "    <tr>\n",
       "      <th>2</th>\n",
       "      <td>39.687588</td>\n",
       "      <td>-105.010862</td>\n",
       "      <td>573c0796f0fe6e735a66deb3</td>\n",
       "    </tr>\n",
       "    <tr>\n",
       "      <th>3</th>\n",
       "      <td>39.789085</td>\n",
       "      <td>-105.079237</td>\n",
       "      <td>573c08d2864fce1a9a0563bc</td>\n",
       "    </tr>\n",
       "    <tr>\n",
       "      <th>4</th>\n",
       "      <td>39.689631</td>\n",
       "      <td>-105.009455</td>\n",
       "      <td>573c08ff864fce1a9a0579b0</td>\n",
       "    </tr>\n",
       "  </tbody>\n",
       "</table>\n",
       "</div>"
      ],
      "text/plain": [
       "         lat         lng                    messid\n",
       "0  39.707541 -105.037183  573be2503e952e191262c351\n",
       "1  39.783737 -105.072701  573c05f83e952e1912758013\n",
       "2  39.687588 -105.010862  573c0796f0fe6e735a66deb3\n",
       "3  39.789085 -105.079237  573c08d2864fce1a9a0563bc\n",
       "4  39.689631 -105.009455  573c08ff864fce1a9a0579b0"
      ]
     },
     "execution_count": 17,
     "metadata": {},
     "output_type": "execute_result"
    }
   ],
   "source": [
    "df_test_train = df_test.drop(['messid', 'did'], axis=1)\n",
    "\n",
    "pred_lng = ext_lng.predict(df_test_train)\n",
    "\n",
    "new_test = pd.concat([df_test_train.reset_index(drop=True), pd.DataFrame(pred_lng).reset_index(drop=True)], axis=1)\n",
    "pred_lat = ext_lat.predict(new_test)\n",
    "\n",
    "test_res = pd.DataFrame(np.array([pred_lat, pred_lng]).T, columns = ['lat', 'lng'])\n",
    "test_res['messid'] = df_test['messid']\n",
    "test_res.to_csv('pred_pos_test_list.csv', index=False)\n",
    "test_res.head()\n"
   ]
  },
  {
   "cell_type": "code",
   "execution_count": 18,
   "metadata": {
    "ExecuteTime": {
     "end_time": "2019-01-12T17:56:27.188978Z",
     "start_time": "2019-01-12T17:56:27.180870Z"
    }
   },
   "outputs": [
    {
     "data": {
      "text/plain": [
       "(5294, 3)"
      ]
     },
     "execution_count": 18,
     "metadata": {},
     "output_type": "execute_result"
    }
   ],
   "source": [
    "test_res.shape"
   ]
  },
  {
   "cell_type": "code",
   "execution_count": 63,
   "metadata": {
    "ExecuteTime": {
     "end_time": "2019-01-09T04:41:23.966240Z",
     "start_time": "2019-01-09T04:41:23.938697Z"
    }
   },
   "outputs": [],
   "source": [
    "def plot_learning_curve(estimator, title, X, y, ylim=None, cv=None,\n",
    "                        n_jobs=-1, train_sizes=np.linspace(.1, 1.0, 5)):\n",
    "    \"\"\"Generate a simple plot of the test and training learning curve\"\"\"\n",
    "    from sklearn.model_selection import learning_curve\n",
    "    plt.figure(figsize=(12,6))\n",
    "    plt.title(title)\n",
    "    if ylim is not None:\n",
    "        plt.ylim(*ylim)\n",
    "    plt.xlabel(\"Training examples\")\n",
    "    plt.ylabel(\"Score\")\n",
    "    train_sizes, train_scores, test_scores = learning_curve(estimator, X, y, cv=cv, n_jobs=n_jobs, train_sizes=train_sizes)\n",
    "    train_scores_mean = np.mean(train_scores, axis=1)\n",
    "    train_scores_std = np.std(train_scores, axis=1)\n",
    "    test_scores_mean = np.mean(test_scores, axis=1)\n",
    "    test_scores_std = np.std(test_scores, axis=1)\n",
    "    plt.grid()\n",
    "    \n",
    "    plt.fill_between(train_sizes, train_scores_mean - train_scores_std,\n",
    "                     train_scores_mean + train_scores_std, alpha=0.1,\n",
    "                     color=\"r\")\n",
    "    plt.fill_between(train_sizes, test_scores_mean - test_scores_std,\n",
    "                     test_scores_mean + test_scores_std, alpha=0.1, color=\"g\")\n",
    "    plt.plot(train_sizes, train_scores_mean, 'o-', color=\"r\",\n",
    "             label=\"Training score\")\n",
    "    plt.plot(train_sizes, test_scores_mean, 'o-', color=\"g\",\n",
    "             label=\"Cross-validation score\")\n",
    "\n",
    "    plt.legend(loc=\"best\")\n",
    "    return plt   "
   ]
  },
  {
   "cell_type": "code",
   "execution_count": 64,
   "metadata": {
    "ExecuteTime": {
     "end_time": "2019-01-09T06:00:40.697777Z",
     "start_time": "2019-01-09T04:41:23.970536Z"
    }
   },
   "outputs": [
    {
     "data": {
      "text/plain": [
       "<module 'matplotlib.pyplot' from '/Users/maelfabien/.local/lib/python3.6/site-packages/matplotlib/pyplot.py'>"
      ]
     },
     "execution_count": 64,
     "metadata": {},
     "output_type": "execute_result"
    },
    {
     "data": {
      "image/png": "[encoded data removed]",
      "text/plain": [
       "<Figure size 864x432 with 1 Axes>"
      ]
     },
     "metadata": {},
     "output_type": "display_data"
    }
   ],
   "source": [
    "plot_learning_curve(ext_lat, \"Learning Curve of the Extra Tree\", X_train, y_lat_train)"
   ]
  },
  {
   "cell_type": "markdown",
   "metadata": {},
   "source": [
    "The cross validation score keeps improving with the number of observations we are given. This is a good sign that we are not overfitting."
   ]
  },
  {
   "cell_type": "code",
   "execution_count": null,
   "metadata": {},
   "outputs": [],
   "source": []
  }
 ],
 "metadata": {
  "kernelspec": {
   "display_name": "Python 3",
   "language": "python",
   "name": "python3"
  },
  "language_info": {
   "codemirror_mode": {
    "name": "ipython",
    "version": 3
   },
   "file_extension": ".py",
   "mimetype": "text/x-python",
   "name": "python",
   "nbconvert_exporter": "python",
   "pygments_lexer": "ipython3",
   "version": "3.6.5"
  },
  "latex_envs": {
   "LaTeX_envs_menu_present": true,
   "autoclose": false,
   "autocomplete": true,
   "bibliofile": "biblio.bib",
   "cite_by": "apalike",
   "current_citInitial": 1,
   "eqLabelWithNumbers": true,
   "eqNumInitial": 1,
   "hotkeys": {
    "equation": "Ctrl-E",
    "itemize": "Ctrl-I"
   },
   "labels_anchors": false,
   "latex_user_defs": false,
   "report_style_numbering": false,
   "user_envs_cfg": false
  },
  "toc": {
   "base_numbering": 1,
   "nav_menu": {},
   "number_sections": true,
   "sideBar": true,
   "skip_h1_title": false,
   "title_cell": "Table of Contents",
   "title_sidebar": "Contents",
   "toc_cell": false,
   "toc_position": {},
   "toc_section_display": true,
   "toc_window_display": false
  }
 },
 "nbformat": 4,
 "nbformat_minor": 2
}
