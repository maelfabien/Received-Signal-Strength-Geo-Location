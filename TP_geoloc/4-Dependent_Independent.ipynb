{
 "cells": [
  {
   "cell_type": "markdown",
   "metadata": {},
   "source": [
    "# Dependent or independent ?"
   ]
  },
  {
   "cell_type": "markdown",
   "metadata": {},
   "source": [
    "## Imports"
   ]
  },
  {
   "cell_type": "code",
   "execution_count": 1,
   "metadata": {
    "ExecuteTime": {
     "end_time": "2019-01-09T20:26:36.930778Z",
     "start_time": "2019-01-09T20:26:34.711125Z"
    }
   },
   "outputs": [
    {
     "name": "stderr",
     "output_type": "stream",
     "text": [
      "/anaconda3/lib/python3.6/site-packages/sklearn/ensemble/weight_boosting.py:29: DeprecationWarning: numpy.core.umath_tests is an internal NumPy module and should not be imported. It will be removed in a future NumPy release.\n",
      "  from numpy.core.umath_tests import inner1d\n"
     ]
    }
   ],
   "source": [
    "import pandas as pd\n",
    "import numpy as np\n",
    "import seaborn as sns\n",
    "import matplotlib.pyplot as plt\n",
    "from geopy.distance import vincenty\n",
    "from sklearn.ensemble import ExtraTreesRegressor\n",
    "import warnings\n",
    "warnings.filterwarnings('ignore')"
   ]
  },
  {
   "cell_type": "code",
   "execution_count": 2,
   "metadata": {
    "ExecuteTime": {
     "end_time": "2019-01-09T20:26:43.016696Z",
     "start_time": "2019-01-09T20:26:36.935104Z"
    }
   },
   "outputs": [],
   "source": [
    "df_train = pd.read_csv('/Users/maelfabien/Desktop/LocalDB/RSSI/df_mess_train_3.csv')\n",
    "df_test = pd.read_csv('/Users/maelfabien/Desktop/LocalDB/RSSI/df_mess_test_3.csv')"
   ]
  },
  {
   "cell_type": "code",
   "execution_count": 3,
   "metadata": {
    "ExecuteTime": {
     "end_time": "2019-01-09T20:26:43.117148Z",
     "start_time": "2019-01-09T20:26:43.019595Z"
    }
   },
   "outputs": [],
   "source": [
    "df_train = df_train.drop(['Unnamed: 0'], axis=1)\n",
    "df_test = df_test.drop(['Unnamed: 0'], axis=1)"
   ]
  },
  {
   "cell_type": "markdown",
   "metadata": {},
   "source": [
    "## Error Functions"
   ]
  },
  {
   "cell_type": "code",
   "execution_count": 4,
   "metadata": {
    "ExecuteTime": {
     "end_time": "2019-01-09T20:26:43.127307Z",
     "start_time": "2019-01-09T20:26:43.120592Z"
    }
   },
   "outputs": [],
   "source": [
    "def vincenty_vec(vec_coord):\n",
    "    vin_vec_dist = np.zeros(vec_coord.shape[0])\n",
    "    if vec_coord.shape[1] !=  4:\n",
    "        print('ERROR: Bad number of columns (shall be = 4)')\n",
    "    else:\n",
    "        vin_vec_dist = [vincenty(vec_coord[m,0:2],vec_coord[m,2:]).meters for m in range(vec_coord.shape[0])]\n",
    "    return vin_vec_dist"
   ]
  },
  {
   "cell_type": "code",
   "execution_count": 5,
   "metadata": {
    "ExecuteTime": {
     "end_time": "2019-01-09T20:26:43.142232Z",
     "start_time": "2019-01-09T20:26:43.131427Z"
    }
   },
   "outputs": [],
   "source": [
    "# evaluate distance error for each predicted point\n",
    "def Eval_geoloc(y_train_lat , y_train_lng, y_pred_lat, y_pred_lng):\n",
    "    y_pred_lat[np.where(y_pred_lat>90)[0]]=90\n",
    "    y_pred_lat[np.where(y_pred_lat<-90)[0]]=-90\n",
    "    vec_coord = np.array([np.array(y_train_lat) , np.array(y_train_lng), y_pred_lat, y_pred_lng])\n",
    "    err_vec = vincenty_vec(np.transpose(vec_coord))\n",
    "    \n",
    "    return err_vec"
   ]
  },
  {
   "cell_type": "markdown",
   "metadata": {},
   "source": [
    "## k-Fold Cross Validation"
   ]
  },
  {
   "cell_type": "code",
   "execution_count": 6,
   "metadata": {
    "ExecuteTime": {
     "end_time": "2019-01-09T20:26:43.167479Z",
     "start_time": "2019-01-09T20:26:43.148012Z"
    }
   },
   "outputs": [
    {
     "data": {
      "text/plain": [
       "array([ 473335.,  473953.,  476512.,  476286.,  473438.,  476185.,\n",
       "        476285.,  476314.,  476306.,  476317.,  476320.,  473502.,\n",
       "        476318.,  476197.,  476312.,  476316.,  476251.,  476308.,\n",
       "        473683.,  473796.,  476323.,  476329.,  476321.,  476324.,\n",
       "        476332.,  476322.,  473864.,  473512.,  473805.,  476327.,\n",
       "        476325.,  476515.,  476505.,  476517.,  476212.,  476503.,\n",
       "        476507.,  476611.,  476610.,  476606.,  476604.,  476607.,\n",
       "        476602.,  476609.,  476600.,  476598.,  476615.,  476521.,\n",
       "        476525.,  476523.,  476830.,  474181.,  476828.,  474126.,\n",
       "        476826.,  476853.,  476315.,  474176.,  476852.,  476987.,\n",
       "        476307.,  476868.,  476833.,  476861.,  473897.,  476276.,\n",
       "        473902.,  476275.,  476888.,  476891.,  476274.,  476280.,\n",
       "        476257.,  476210.,  476231.,  474192.,  476225.,  476256.,\n",
       "        476161.,  476228.,  476835.,  473368.,  473892.,  476883.,\n",
       "        476889.,  476884.,  476887.,  473899.,  476885.,  476253.,\n",
       "        473871.,  476248., 1747448., 1747434.,  473401.,  476596.,\n",
       "        473507.,  477201.,  476829.,  477023.,  476567.,  476331.,\n",
       "        473288.,  476123.,  476140.,  476594.,  476896.,  476836.,\n",
       "        476513.,  476207.,  476841.,  476337.,  476593.])"
      ]
     },
     "execution_count": 6,
     "metadata": {},
     "output_type": "execute_result"
    }
   ],
   "source": [
    "df_train['did'].unique()"
   ]
  },
  {
   "cell_type": "markdown",
   "metadata": {},
   "source": [
    "For independent risks :"
   ]
  },
  {
   "cell_type": "code",
   "execution_count": 7,
   "metadata": {
    "ExecuteTime": {
     "end_time": "2019-01-09T23:40:56.008528Z",
     "start_time": "2019-01-09T20:26:43.173929Z"
    },
    "scrolled": true
   },
   "outputs": [
    {
     "name": "stdout",
     "output_type": "stream",
     "text": [
      "8506.389972690758\n",
      "2338.205181275432\n",
      "5016.020177466543\n",
      "6282.637504753409\n",
      "4381.391747285404\n",
      "2730.0934563396895\n",
      "5794.274217200038\n",
      "2889.266123535241\n",
      "4149.355655488064\n",
      "3933.0659422543067\n",
      "1213.4726372352388\n",
      "1434.3518985325247\n",
      "2125.1395131694335\n",
      "1414.343711302411\n",
      "5438.336698716719\n",
      "7408.798509752402\n",
      "7925.505208504677\n",
      "2554.69570424476\n",
      "2675.121069906966\n",
      "4745.074260797381\n",
      "6161.346712644995\n",
      "263.81471004227456\n",
      "1655.1339096718405\n",
      "1452.0760015369556\n",
      "1645.8538686069362\n",
      "1612.767849280381\n",
      "5960.053580147819\n",
      "2772.546277384142\n",
      "4866.67906032537\n",
      "13333.408484080808\n",
      "8288.034475271315\n",
      "3065.665157658542\n",
      "1895.5177087197383\n",
      "2085.0250225380532\n",
      "3495.274030165019\n",
      "8707.925720519255\n",
      "332.46500478946257\n",
      "1866.950762784308\n",
      "13696.708455416836\n",
      "5199.6024634149835\n",
      "5598.601993620925\n",
      "2737.981800926037\n",
      "1344.6777235306656\n",
      "2349.9928082257748\n",
      "4633.2214484258375\n",
      "97867.81423814905\n",
      "2971.417205193782\n",
      "1863.1553377807165\n",
      "6308.723969376792\n",
      "475.59003266132436\n",
      "8127.340151880876\n",
      "7740.726433880112\n",
      "5011.1005008939965\n",
      "2090.41344422206\n",
      "1846.1773663687463\n",
      "2394.526979672201\n",
      "3423.010648066619\n",
      "6486.271738118156\n",
      "3733.455435303995\n",
      "3460.501518624006\n",
      "2629.8311359169547\n",
      "2447.3619673072526\n",
      "2906.8754001245743\n",
      "2876.1892000781263\n",
      "13919.901266064691\n",
      "2516.289524149036\n",
      "3645.2325783431875\n",
      "797.0104604302361\n",
      "2006.7548279329667\n",
      "6987.944451504072\n",
      "5301.027184832395\n",
      "763.4074557275711\n",
      "5218.478025684056\n",
      "2860.7525443961163\n",
      "1939.6029130523114\n",
      "6774.524909099615\n",
      "37.68347729658748\n",
      "35037.31473430005\n",
      "3073.434633705653\n",
      "1702.483692287286\n",
      "125945.97371852894\n",
      "2177.153880294388\n",
      "2437.2518701292984\n",
      "1959.0984983047642\n",
      "23505.24005466559\n",
      "1035.7069050504272\n",
      "2874.973739972614\n",
      "3446.4196302938185\n",
      "3392.143211482703\n",
      "5371.058778655355\n",
      "1563.1828255001587\n",
      "11834.366548545437\n",
      "1503.2419339512371\n",
      "1603.938334703301\n",
      "4528.533524685845\n",
      "511.57667414948503\n",
      "3290.4939115619227\n",
      "34956.75856301215\n",
      "10309.729230429497\n",
      "7916.939998720507\n",
      "2406.0092251798856\n",
      "934.7892941438521\n",
      "3607.3754901406814\n",
      "2698.7079468556935\n",
      "1178.5989856870183\n",
      "1644.8382920075614\n",
      "49492.254180999545\n",
      "29244.0703395776\n",
      "15443.508721586475\n",
      "2925.082883183962\n",
      "5966.692062179413\n",
      "826.4862791052143\n",
      "2295.792217501747\n"
     ]
    }
   ],
   "source": [
    "error_independent = []\n",
    "\n",
    "for device in df_train['did'].unique() :\n",
    "    \n",
    "    df_train_lov = df_train[df_train.did != device]\n",
    "    df_test_lov = df_train[df_train.did == device]\n",
    "    \n",
    "    X_train = df_train_lov.drop(['messid', 'lat', 'lng', 'did'], axis=1)\n",
    "    y_lat_train = df_train_lov['lat']\n",
    "    y_lng_train = df_train_lov['lng']\n",
    "    \n",
    "    X_test = df_test_lov.drop(['messid', 'lat', 'lng', 'did'], axis=1)\n",
    "    y_lat_test = df_test_lov['lat']\n",
    "    y_lng_test = df_test_lov['lng']\n",
    "    \n",
    "    clf_lng = ExtraTreesRegressor(n_estimators=10)\n",
    "    clf_lng.fit(X_train, y_lng_train)\n",
    "    pred_lng = clf_lng.predict(X_test)\n",
    "    \n",
    "    clf_lat = ExtraTreesRegressor(n_estimators=10)\n",
    "    clf_lat.fit(X_train, y_lat_train)\n",
    "    pred_lat = clf_lat.predict(X_test)\n",
    "    \n",
    "    err_vec = Eval_geoloc(y_lat_test , y_lng_test, pred_lat, pred_lng)\n",
    "    err = np.percentile(err_vec, 80)\n",
    "    error_independent.append(err)\n",
    "    \n",
    "    print(err)"
   ]
  },
  {
   "cell_type": "markdown",
   "metadata": {},
   "source": [
    "For dependent risks, by predicting first the longitude :"
   ]
  },
  {
   "cell_type": "code",
   "execution_count": 8,
   "metadata": {
    "ExecuteTime": {
     "end_time": "2019-01-10T02:37:42.441569Z",
     "start_time": "2019-01-09T23:40:56.038112Z"
    }
   },
   "outputs": [
    {
     "name": "stdout",
     "output_type": "stream",
     "text": [
      "8514.149729082863\n",
      "2480.035206815076\n",
      "5034.815931213441\n",
      "6214.926941073938\n",
      "3626.0626685437555\n",
      "2648.2490853325544\n",
      "5414.971924781733\n",
      "3224.137245163359\n",
      "690.5500877530941\n",
      "2276.3461725905468\n",
      "1444.4353610569447\n",
      "972.4088055519364\n",
      "2039.5580813068789\n",
      "210.8566080924113\n",
      "5029.2611538201445\n",
      "7976.809205573988\n",
      "8152.856502228019\n",
      "326.0755326384602\n",
      "2137.559056046669\n",
      "4655.7219691947885\n",
      "6598.087088311751\n",
      "567.8440570884813\n",
      "2537.086666480679\n",
      "2682.6944873602038\n",
      "2115.047475238517\n",
      "876.3493148051223\n",
      "5398.649654664541\n",
      "3150.9769743056054\n",
      "4609.687062223649\n",
      "13075.163921796368\n",
      "8160.807868095084\n",
      "2492.408820371652\n",
      "2707.924485932207\n",
      "2868.0367924159436\n",
      "3024.5289157212474\n",
      "7890.8033069224\n",
      "336.53204509831744\n",
      "561.5131494367018\n",
      "2381.4887173158177\n",
      "4722.021616636812\n",
      "6783.806568946557\n",
      "2033.240081274378\n",
      "1697.4127346161213\n",
      "2434.4115297166354\n",
      "3505.1016668124207\n",
      "105376.87740649584\n",
      "3658.6847250205824\n",
      "1765.9812869934558\n",
      "4871.146082869977\n",
      "335.74894114305505\n",
      "7905.592425042541\n",
      "8857.89620529527\n",
      "5716.237281401454\n",
      "2314.1722471224334\n",
      "1596.2663278276373\n",
      "2555.40561310518\n",
      "3696.334915542084\n",
      "7048.5288664364925\n",
      "3412.016033686178\n",
      "2986.46415895313\n",
      "1977.4823155684585\n",
      "796.6263018152301\n",
      "3198.3652094956146\n",
      "3678.916699131724\n",
      "10981.405858808239\n",
      "2609.031233935502\n",
      "2972.3439864691622\n",
      "683.8794398062527\n",
      "1684.530506079041\n",
      "6727.830225023372\n",
      "6179.471624205196\n",
      "1224.1953601295256\n",
      "6691.645891431239\n",
      "3149.0007375545383\n",
      "2462.7509573332177\n",
      "6960.248041489309\n",
      "65.57635913067152\n",
      "30485.81969743238\n",
      "2991.333516394935\n",
      "1484.6716738548057\n",
      "154033.6535436852\n",
      "2222.1373100711735\n",
      "3003.947344628885\n",
      "994.3858726734014\n",
      "20609.61962146509\n",
      "742.1379158165934\n",
      "2611.41581300442\n",
      "3423.93780682712\n",
      "2670.861993148847\n",
      "3831.673303066219\n",
      "1448.557094756971\n",
      "11152.851937549798\n",
      "1412.7560368294785\n",
      "1778.1137716096227\n",
      "5147.737884952374\n",
      "1392.0787358042721\n",
      "3115.964314750637\n",
      "30409.20818830119\n",
      "4801.144228028973\n",
      "8088.013071942774\n",
      "2390.6889918484458\n",
      "398.3530513639813\n",
      "3549.276665067544\n",
      "2658.101118727079\n",
      "1319.1308971357316\n",
      "1269.7470079292948\n",
      "59734.60205711919\n",
      "30550.42618472573\n",
      "15974.148850390886\n",
      "2926.998243470347\n",
      "5352.992171454223\n",
      "1046.1922254779568\n",
      "7316.6205502676185\n"
     ]
    }
   ],
   "source": [
    "error_lng = []\n",
    "\n",
    "for device in df_train['did'].unique() :\n",
    "    \n",
    "    df_train_lov = df_train[df_train.did != device]\n",
    "    df_test_lov = df_train[df_train.did == device]\n",
    "    \n",
    "    X_train = df_train_lov.drop(['messid', 'lat', 'lng', 'did'], axis=1)\n",
    "    y_lat_train = df_train_lov['lat']\n",
    "    y_lng_train = df_train_lov['lng']\n",
    "    \n",
    "    X_test = df_test_lov.drop(['messid', 'lat', 'lng', 'did'], axis=1)\n",
    "    y_lat_test = df_test_lov['lat']\n",
    "    y_lng_test = df_test_lov['lng']\n",
    "    \n",
    "    clf_lng = ExtraTreesRegressor(n_estimators=10)\n",
    "    clf_lng.fit(X_train, y_lng_train)\n",
    "    pred_lng = clf_lng.predict(X_test)\n",
    "    \n",
    "    clf_lat = ExtraTreesRegressor(n_estimators=10)\n",
    "    new_X_train = pd.concat([X_train, y_lng_train], axis=1)\n",
    "    \n",
    "    clf_lat.fit(new_X_train, y_lat_train)\n",
    "    new_X = pd.concat([X_test.reset_index(drop=True), pd.DataFrame(pred_lng).reset_index(drop=True)], axis=1)\n",
    "    pred_lat = clf_lat.predict(new_X)\n",
    "    \n",
    "    err_vec = Eval_geoloc(y_lat_test , y_lng_test, pred_lat, pred_lng)\n",
    "    err = np.percentile(err_vec, 80)\n",
    "    error_lng.append(err)\n",
    "    \n",
    "    print(err)"
   ]
  },
  {
   "cell_type": "markdown",
   "metadata": {},
   "source": [
    "For dependent risks, by predicting first the latitude :"
   ]
  },
  {
   "cell_type": "code",
   "execution_count": 9,
   "metadata": {
    "ExecuteTime": {
     "end_time": "2019-01-10T05:33:59.995477Z",
     "start_time": "2019-01-10T02:37:42.454233Z"
    }
   },
   "outputs": [
    {
     "name": "stdout",
     "output_type": "stream",
     "text": [
      "8062.942681543891\n",
      "2365.171346841827\n",
      "5489.596436606539\n",
      "3682.469660852621\n",
      "4371.719032317516\n",
      "2911.401867160183\n",
      "5573.397993357904\n",
      "2418.054375591671\n",
      "2865.3972387927124\n",
      "4345.478506548134\n",
      "1683.8323162845045\n",
      "2418.2630267449995\n",
      "1970.5751365250296\n",
      "1087.2673612565548\n",
      "5089.509542293505\n",
      "7694.7110199294275\n",
      "7928.533633769798\n",
      "2560.2487606646537\n",
      "2184.4153104136585\n",
      "5055.07546077454\n",
      "4893.689609438945\n",
      "592.3627055027763\n",
      "1303.9771315959424\n",
      "1874.0922710940506\n",
      "1308.0242400982115\n",
      "485.9087771246809\n",
      "3520.6583607438597\n",
      "3307.4883704645626\n",
      "5216.946697508269\n",
      "12436.008371175436\n",
      "7789.434523341875\n",
      "3533.286657427201\n",
      "2755.0846529856813\n",
      "2703.394241505292\n",
      "3072.902290667191\n",
      "9210.236223837515\n",
      "260.036711667649\n",
      "1035.062874029424\n",
      "4500.098427937415\n",
      "4324.292037220446\n",
      "4213.548836078704\n",
      "2875.064884389412\n",
      "2316.2579429662746\n",
      "2616.210753058131\n",
      "4427.158002864031\n",
      "90331.08828261866\n",
      "992.1914920589159\n",
      "1762.9137670237565\n",
      "6723.697203226802\n",
      "400.0888882862955\n",
      "7974.55435989609\n",
      "8153.839860236269\n",
      "5053.429058530915\n",
      "2326.4384159445535\n",
      "2129.0293663469206\n",
      "2044.7087743067\n",
      "4632.431962239687\n",
      "6968.0179856636805\n",
      "3408.663998251225\n",
      "3033.3488108058623\n",
      "954.242796513311\n",
      "5148.204113614461\n",
      "2552.96122663661\n",
      "2536.4579263341802\n",
      "15966.880766265589\n",
      "2332.896748061308\n",
      "3717.333992629612\n",
      "95.26725993750588\n",
      "1584.3549055752592\n",
      "11949.61278472313\n",
      "5127.501331297871\n",
      "1126.7486617823542\n",
      "5132.4250754757095\n",
      "2970.7236813345908\n",
      "1277.5723007908186\n",
      "6667.9388549433315\n",
      "459.356541241619\n",
      "30043.968392608454\n",
      "3005.410306371138\n",
      "2321.2337595994404\n",
      "120688.5727723508\n",
      "1832.8181363358253\n",
      "3175.707088340094\n",
      "1425.9032764645956\n",
      "38319.275505240235\n",
      "1248.9248732022784\n",
      "4491.022518589923\n",
      "3426.3229870735036\n",
      "2368.8725821642583\n",
      "5319.01122536489\n",
      "1253.8613028988175\n",
      "10106.317279918547\n",
      "1143.6922931757722\n",
      "1434.8829232672329\n",
      "5766.913058508915\n",
      "982.0714928817715\n",
      "3038.155181938474\n",
      "22707.45121874434\n",
      "4716.049848227802\n",
      "8106.868436673782\n",
      "2599.0786914018627\n",
      "943.625795136835\n",
      "3683.73647818182\n",
      "3543.4389066504746\n",
      "1535.5123334176776\n",
      "830.7168525641819\n",
      "74381.65249051407\n",
      "31904.33324300499\n",
      "15525.108922260812\n",
      "2901.0708015211785\n",
      "3973.4518178568965\n",
      "1763.7729415129197\n",
      "4358.697052933283\n"
     ]
    }
   ],
   "source": [
    "error_lat = []\n",
    "\n",
    "for device in df_train['did'].unique() :\n",
    "    \n",
    "    df_train_lov = df_train[df_train.did != device]\n",
    "    df_test_lov = df_train[df_train.did == device]\n",
    "    \n",
    "    X_train = df_train_lov.drop(['messid', 'lat', 'lng', 'did'], axis=1)\n",
    "    y_lat_train = df_train_lov['lat']\n",
    "    y_lng_train = df_train_lov['lng']\n",
    "    \n",
    "    X_test = df_test_lov.drop(['messid', 'lat', 'lng', 'did'], axis=1)\n",
    "    y_lat_test = df_test_lov['lat']\n",
    "    y_lng_test = df_test_lov['lng']\n",
    "    \n",
    "    clf_lat = ExtraTreesRegressor(n_estimators=10)\n",
    "    clf_lat.fit(X_train, y_lat_train)\n",
    "    pred_lat = clf_lat.predict(X_test)\n",
    "    \n",
    "    clf_lng = ExtraTreesRegressor(n_estimators=10)\n",
    "    new_X_train = pd.concat([X_train, y_lat_train], axis=1)\n",
    "    \n",
    "    clf_lng.fit(new_X_train, y_lng_train)\n",
    "    new_X = pd.concat([X_test.reset_index(drop=True), pd.DataFrame(pred_lat).reset_index(drop=True)], axis=1)\n",
    "    \n",
    "    pred_lng = clf_lng.predict(new_X)\n",
    "    \n",
    "    err_vec = Eval_geoloc(y_lat_test , y_lng_test, pred_lat, pred_lng)\n",
    "    err = np.percentile(err_vec, 80)\n",
    "    error_lat.append(err)\n",
    "    \n",
    "    print(err)"
   ]
  },
  {
   "cell_type": "code",
   "execution_count": 12,
   "metadata": {
    "ExecuteTime": {
     "end_time": "2019-01-10T07:04:27.163872Z",
     "start_time": "2019-01-10T07:04:27.155815Z"
    }
   },
   "outputs": [
    {
     "name": "stdout",
     "output_type": "stream",
     "text": [
      "Independant : 2971.417205193782\n",
      "Longitude First : 2991.333516394935\n",
      "Latitude First : 3072.902290667191\n"
     ]
    }
   ],
   "source": [
    "print(\"Independant : \" + str(np.median(np.array(error_independent))))\n",
    "print(\"Longitude First : \" + str(np.median(np.array(error_lng))))\n",
    "print(\"Latitude First : \" + str(np.median(np.array(error_lat))))"
   ]
  },
  {
   "cell_type": "markdown",
   "metadata": {},
   "source": [
    "The best model appears to be : Estimating longitude first, and then latitude in the dependent model."
   ]
  }
 ],
 "metadata": {
  "kernelspec": {
   "display_name": "Python 3",
   "language": "python",
   "name": "python3"
  },
  "language_info": {
   "codemirror_mode": {
    "name": "ipython",
    "version": 3
   },
   "file_extension": ".py",
   "mimetype": "text/x-python",
   "name": "python",
   "nbconvert_exporter": "python",
   "pygments_lexer": "ipython3",
   "version": "3.6.5"
  },
  "latex_envs": {
   "LaTeX_envs_menu_present": true,
   "autoclose": false,
   "autocomplete": true,
   "bibliofile": "biblio.bib",
   "cite_by": "apalike",
   "current_citInitial": 1,
   "eqLabelWithNumbers": true,
   "eqNumInitial": 1,
   "hotkeys": {
    "equation": "Ctrl-E",
    "itemize": "Ctrl-I"
   },
   "labels_anchors": false,
   "latex_user_defs": false,
   "report_style_numbering": false,
   "user_envs_cfg": false
  },
  "toc": {
   "base_numbering": 1,
   "nav_menu": {},
   "number_sections": true,
   "sideBar": true,
   "skip_h1_title": false,
   "title_cell": "Table of Contents",
   "title_sidebar": "Contents",
   "toc_cell": false,
   "toc_position": {},
   "toc_section_display": true,
   "toc_window_display": false
  }
 },
 "nbformat": 4,
 "nbformat_minor": 1
}
